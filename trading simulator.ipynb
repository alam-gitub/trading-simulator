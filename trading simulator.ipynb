{
 "cells": [
  {
   "cell_type": "code",
   "execution_count": 28,
   "metadata": {},
   "outputs": [],
   "source": [
    "import pandas as pd\n",
    "import numpy as np\n",
    "from ta.trend import EMAIndicator\n",
    "from ta.momentum import RSIIndicator\n"
   ]
  },
  {
   "cell_type": "code",
   "execution_count": 51,
   "metadata": {},
   "outputs": [
    {
     "name": "stdout",
     "output_type": "stream",
     "text": [
      "         Date   Open   High    Low  Close   Volume Stock\n",
      "0  01/17/2025  40.00  40.50  39.77  40.12   99,226   CSV\n",
      "1  01/16/2025  39.90  40.34  39.67  39.83   69,562   CSV\n",
      "2  01/15/2025  40.05  40.38  39.75  40.08  150,918   CSV\n",
      "3  01/14/2025  39.57  40.07  39.25  39.68   94,930   CSV\n",
      "4  01/13/2025  38.26  39.22  38.17  39.18   61,550   CSV\n"
     ]
    }
   ],
   "source": [
    "# File paths\n",
    "file1 = r\"C:\\Users\\win10\\OneDrive\\Desktop\\New folder\\assignment\\CSV.csv\"\n",
    "file2 = r\"C:\\Users\\win10\\OneDrive\\Desktop\\New folder\\assignment\\MSFT.csv\"\n",
    "file3 = r\"C:\\Users\\win10\\OneDrive\\Desktop\\New folder\\assignment\\TSLA.csv\"\n",
    "\n",
    "# Load CSV files into DataFrames\n",
    "df1 = pd.read_csv(file1)\n",
    "df2 = pd.read_csv(file2)\n",
    "df3 = pd.read_csv(file3)\n",
    "\n",
    "# df1.head()\n",
    "# df2.head()\n",
    "# df3.head()\n",
    "# Add a column to identify the stock symbol\n",
    "df1['Stock'] = 'CSV'\n",
    "df2['Stock'] = 'MSFT'\n",
    "df3['Stock'] = 'TSLA'\n",
    "\n",
    "# Combine all DataFrames into one\n",
    "data = pd.concat([df1, df2, df3], ignore_index=True)\n",
    "\n",
    "# Display the first few rows\n",
    "print(data.head())\n"
   ]
  },
  {
   "cell_type": "code",
   "execution_count": 52,
   "metadata": {},
   "outputs": [
    {
     "name": "stdout",
     "output_type": "stream",
     "text": [
      "Date      0\n",
      "Open      0\n",
      "High      0\n",
      "Low       0\n",
      "Close     0\n",
      "Volume    0\n",
      "Stock     0\n",
      "dtype: int64\n"
     ]
    }
   ],
   "source": [
    "# Check for missing values\n",
    "print(data.isnull().sum())\n",
    "\n",
    "# # Drop rows with missing values (if any)\n",
    "# data = data.dropna()\n",
    "\n",
    "# # Ensure the required columns exist (e.g., 'Close', 'Date')\n",
    "# print(data.columns)\n"
   ]
  },
  {
   "cell_type": "code",
   "execution_count": 54,
   "metadata": {},
   "outputs": [
    {
     "data": {
      "text/plain": [
       "(284, 7)"
      ]
     },
     "execution_count": 54,
     "metadata": {},
     "output_type": "execute_result"
    }
   ],
   "source": [
    "data.shape"
   ]
  },
  {
   "cell_type": "code",
   "execution_count": 55,
   "metadata": {},
   "outputs": [
    {
     "name": "stdout",
     "output_type": "stream",
     "text": [
      "<class 'pandas.core.frame.DataFrame'>\n",
      "RangeIndex: 284 entries, 0 to 283\n",
      "Data columns (total 7 columns):\n",
      " #   Column  Non-Null Count  Dtype  \n",
      "---  ------  --------------  -----  \n",
      " 0   Date    284 non-null    object \n",
      " 1   Open    284 non-null    float64\n",
      " 2   High    284 non-null    float64\n",
      " 3   Low     284 non-null    float64\n",
      " 4   Close   284 non-null    float64\n",
      " 5   Volume  284 non-null    object \n",
      " 6   Stock   284 non-null    object \n",
      "dtypes: float64(4), object(3)\n",
      "memory usage: 15.7+ KB\n"
     ]
    }
   ],
   "source": [
    "data.info()"
   ]
  },
  {
   "cell_type": "code",
   "execution_count": 56,
   "metadata": {},
   "outputs": [
    {
     "data": {
      "text/html": [
       "<div>\n",
       "<style scoped>\n",
       "    .dataframe tbody tr th:only-of-type {\n",
       "        vertical-align: middle;\n",
       "    }\n",
       "\n",
       "    .dataframe tbody tr th {\n",
       "        vertical-align: top;\n",
       "    }\n",
       "\n",
       "    .dataframe thead th {\n",
       "        text-align: right;\n",
       "    }\n",
       "</style>\n",
       "<table border=\"1\" class=\"dataframe\">\n",
       "  <thead>\n",
       "    <tr style=\"text-align: right;\">\n",
       "      <th></th>\n",
       "      <th>Open</th>\n",
       "      <th>High</th>\n",
       "      <th>Low</th>\n",
       "      <th>Close</th>\n",
       "    </tr>\n",
       "  </thead>\n",
       "  <tbody>\n",
       "    <tr>\n",
       "      <th>count</th>\n",
       "      <td>284.000000</td>\n",
       "      <td>284.000000</td>\n",
       "      <td>284.000000</td>\n",
       "      <td>284.000000</td>\n",
       "    </tr>\n",
       "    <tr>\n",
       "      <th>mean</th>\n",
       "      <td>77.336021</td>\n",
       "      <td>78.437218</td>\n",
       "      <td>76.020246</td>\n",
       "      <td>77.219225</td>\n",
       "    </tr>\n",
       "    <tr>\n",
       "      <th>std</th>\n",
       "      <td>127.339644</td>\n",
       "      <td>129.211490</td>\n",
       "      <td>124.821136</td>\n",
       "      <td>126.987952</td>\n",
       "    </tr>\n",
       "    <tr>\n",
       "      <th>min</th>\n",
       "      <td>23.120000</td>\n",
       "      <td>23.660000</td>\n",
       "      <td>22.960000</td>\n",
       "      <td>23.120000</td>\n",
       "    </tr>\n",
       "    <tr>\n",
       "      <th>25%</th>\n",
       "      <td>26.290000</td>\n",
       "      <td>26.612500</td>\n",
       "      <td>25.877500</td>\n",
       "      <td>26.302500</td>\n",
       "    </tr>\n",
       "    <tr>\n",
       "      <th>50%</th>\n",
       "      <td>30.855000</td>\n",
       "      <td>31.260000</td>\n",
       "      <td>30.615000</td>\n",
       "      <td>30.965000</td>\n",
       "    </tr>\n",
       "    <tr>\n",
       "      <th>75%</th>\n",
       "      <td>39.240000</td>\n",
       "      <td>39.565000</td>\n",
       "      <td>38.525000</td>\n",
       "      <td>39.187500</td>\n",
       "    </tr>\n",
       "    <tr>\n",
       "      <th>max</th>\n",
       "      <td>465.160000</td>\n",
       "      <td>465.330000</td>\n",
       "      <td>451.020000</td>\n",
       "      <td>462.280000</td>\n",
       "    </tr>\n",
       "  </tbody>\n",
       "</table>\n",
       "</div>"
      ],
      "text/plain": [
       "             Open        High         Low       Close\n",
       "count  284.000000  284.000000  284.000000  284.000000\n",
       "mean    77.336021   78.437218   76.020246   77.219225\n",
       "std    127.339644  129.211490  124.821136  126.987952\n",
       "min     23.120000   23.660000   22.960000   23.120000\n",
       "25%     26.290000   26.612500   25.877500   26.302500\n",
       "50%     30.855000   31.260000   30.615000   30.965000\n",
       "75%     39.240000   39.565000   38.525000   39.187500\n",
       "max    465.160000  465.330000  451.020000  462.280000"
      ]
     },
     "execution_count": 56,
     "metadata": {},
     "output_type": "execute_result"
    }
   ],
   "source": [
    "data.describe()"
   ]
  },
  {
   "cell_type": "code",
   "execution_count": 61,
   "metadata": {},
   "outputs": [
    {
     "name": "stdout",
     "output_type": "stream",
     "text": [
      "         Date Stock  Close  EMA_10  EMA_20  RSI\n",
      "0  01/17/2025   CSV  40.12     NaN     NaN  NaN\n",
      "1  01/16/2025   CSV  39.83     NaN     NaN  NaN\n",
      "2  01/15/2025   CSV  40.08     NaN     NaN  NaN\n",
      "3  01/14/2025   CSV  39.68     NaN     NaN  NaN\n",
      "4  01/13/2025   CSV  39.18     NaN     NaN  NaN\n"
     ]
    }
   ],
   "source": [
    "# Ensure 'Close' column is float\n",
    "data['Close'] = data['Close'].astype(float)\n",
    "\n",
    "# Calculate EMA and RSI\n",
    "data['EMA_10'] = EMAIndicator(close=data['Close'], window=10).ema_indicator()\n",
    "data['EMA_20'] = EMAIndicator(close=data['Close'], window=20).ema_indicator()\n",
    "data['RSI'] = RSIIndicator(close=data['Close'], window=14).rsi()\n",
    "\n",
    "# Display the first few rows with new columns\n",
    "print(data[['Date', 'Stock', 'Close', 'EMA_10', 'EMA_20', 'RSI']].head())\n"
   ]
  },
  {
   "cell_type": "code",
   "execution_count": 62,
   "metadata": {},
   "outputs": [
    {
     "name": "stdout",
     "output_type": "stream",
     "text": [
      "284\n"
     ]
    }
   ],
   "source": [
    "print(len(data))"
   ]
  },
  {
   "cell_type": "code",
   "execution_count": 66,
   "metadata": {},
   "outputs": [
    {
     "name": "stdout",
     "output_type": "stream",
     "text": [
      "           Date Stock   Close      EMA_10      EMA_20        RSI  Buy_Signal  \\\n",
      "279  12/30/2024  TSLA  417.41  404.927608  390.758790  64.150567         NaN   \n",
      "280  12/27/2024  TSLA  431.66  409.788043  394.654144  66.945586         NaN   \n",
      "281  12/26/2024  TSLA  454.13  417.850217  400.318511  70.810204         NaN   \n",
      "282  12/24/2024  TSLA  462.28  425.928359  406.219605  72.085037         NaN   \n",
      "283  12/23/2024  TSLA  430.60  426.777748  408.541548  60.943135         NaN   \n",
      "\n",
      "     Sell_Signal  \n",
      "279          NaN  \n",
      "280          NaN  \n",
      "281          NaN  \n",
      "282          NaN  \n",
      "283          NaN  \n"
     ]
    }
   ],
   "source": [
    "# Initialize signal columns\n",
    "data['Buy_Signal'] = np.nan\n",
    "data['Sell_Signal'] = np.nan\n",
    "\n",
    "# Generate signals\n",
    "for i in range(1, len(data)):\n",
    "    if data['EMA_10'][i] > data['EMA_20'][i] and data['RSI'][i] < 30:\n",
    "        data.at[i, 'Buy_Signal'] = data['Close'][i]\n",
    "    elif data['EMA_10'][i] < data['EMA_20'][i] and data['RSI'][i] > 70:\n",
    "        data.at[i, 'Sell_Signal'] = data['Close'][i]\n",
    "\n",
    "# Display the last few rows\n",
    "print(data[['Date', 'Stock', 'Close', 'EMA_10', 'EMA_20', 'RSI', 'Buy_Signal', 'Sell_Signal']].tail())\n"
   ]
  },
  {
   "cell_type": "code",
   "execution_count": 64,
   "metadata": {},
   "outputs": [
    {
     "data": {
      "text/html": [
       "<div>\n",
       "<style scoped>\n",
       "    .dataframe tbody tr th:only-of-type {\n",
       "        vertical-align: middle;\n",
       "    }\n",
       "\n",
       "    .dataframe tbody tr th {\n",
       "        vertical-align: top;\n",
       "    }\n",
       "\n",
       "    .dataframe thead th {\n",
       "        text-align: right;\n",
       "    }\n",
       "</style>\n",
       "<table border=\"1\" class=\"dataframe\">\n",
       "  <thead>\n",
       "    <tr style=\"text-align: right;\">\n",
       "      <th></th>\n",
       "      <th>Date</th>\n",
       "      <th>Open</th>\n",
       "      <th>High</th>\n",
       "      <th>Low</th>\n",
       "      <th>Close</th>\n",
       "      <th>Volume</th>\n",
       "      <th>Stock</th>\n",
       "      <th>EMA_10</th>\n",
       "      <th>EMA_20</th>\n",
       "      <th>RSI</th>\n",
       "      <th>Buy_Signal</th>\n",
       "      <th>Sell_Signal</th>\n",
       "    </tr>\n",
       "  </thead>\n",
       "  <tbody>\n",
       "    <tr>\n",
       "      <th>0</th>\n",
       "      <td>01/17/2025</td>\n",
       "      <td>40.00</td>\n",
       "      <td>40.50</td>\n",
       "      <td>39.77</td>\n",
       "      <td>40.12</td>\n",
       "      <td>99,226</td>\n",
       "      <td>CSV</td>\n",
       "      <td>NaN</td>\n",
       "      <td>NaN</td>\n",
       "      <td>NaN</td>\n",
       "      <td>NaN</td>\n",
       "      <td>NaN</td>\n",
       "    </tr>\n",
       "    <tr>\n",
       "      <th>1</th>\n",
       "      <td>01/16/2025</td>\n",
       "      <td>39.90</td>\n",
       "      <td>40.34</td>\n",
       "      <td>39.67</td>\n",
       "      <td>39.83</td>\n",
       "      <td>69,562</td>\n",
       "      <td>CSV</td>\n",
       "      <td>NaN</td>\n",
       "      <td>NaN</td>\n",
       "      <td>NaN</td>\n",
       "      <td>NaN</td>\n",
       "      <td>NaN</td>\n",
       "    </tr>\n",
       "    <tr>\n",
       "      <th>2</th>\n",
       "      <td>01/15/2025</td>\n",
       "      <td>40.05</td>\n",
       "      <td>40.38</td>\n",
       "      <td>39.75</td>\n",
       "      <td>40.08</td>\n",
       "      <td>150,918</td>\n",
       "      <td>CSV</td>\n",
       "      <td>NaN</td>\n",
       "      <td>NaN</td>\n",
       "      <td>NaN</td>\n",
       "      <td>NaN</td>\n",
       "      <td>NaN</td>\n",
       "    </tr>\n",
       "    <tr>\n",
       "      <th>3</th>\n",
       "      <td>01/14/2025</td>\n",
       "      <td>39.57</td>\n",
       "      <td>40.07</td>\n",
       "      <td>39.25</td>\n",
       "      <td>39.68</td>\n",
       "      <td>94,930</td>\n",
       "      <td>CSV</td>\n",
       "      <td>NaN</td>\n",
       "      <td>NaN</td>\n",
       "      <td>NaN</td>\n",
       "      <td>NaN</td>\n",
       "      <td>NaN</td>\n",
       "    </tr>\n",
       "    <tr>\n",
       "      <th>4</th>\n",
       "      <td>01/13/2025</td>\n",
       "      <td>38.26</td>\n",
       "      <td>39.22</td>\n",
       "      <td>38.17</td>\n",
       "      <td>39.18</td>\n",
       "      <td>61,550</td>\n",
       "      <td>CSV</td>\n",
       "      <td>NaN</td>\n",
       "      <td>NaN</td>\n",
       "      <td>NaN</td>\n",
       "      <td>NaN</td>\n",
       "      <td>NaN</td>\n",
       "    </tr>\n",
       "  </tbody>\n",
       "</table>\n",
       "</div>"
      ],
      "text/plain": [
       "         Date   Open   High    Low  Close   Volume Stock  EMA_10  EMA_20  RSI  \\\n",
       "0  01/17/2025  40.00  40.50  39.77  40.12   99,226   CSV     NaN     NaN  NaN   \n",
       "1  01/16/2025  39.90  40.34  39.67  39.83   69,562   CSV     NaN     NaN  NaN   \n",
       "2  01/15/2025  40.05  40.38  39.75  40.08  150,918   CSV     NaN     NaN  NaN   \n",
       "3  01/14/2025  39.57  40.07  39.25  39.68   94,930   CSV     NaN     NaN  NaN   \n",
       "4  01/13/2025  38.26  39.22  38.17  39.18   61,550   CSV     NaN     NaN  NaN   \n",
       "\n",
       "   Buy_Signal  Sell_Signal  \n",
       "0         NaN          NaN  \n",
       "1         NaN          NaN  \n",
       "2         NaN          NaN  \n",
       "3         NaN          NaN  \n",
       "4         NaN          NaN  "
      ]
     },
     "execution_count": 64,
     "metadata": {},
     "output_type": "execute_result"
    }
   ],
   "source": [
    "data.head()"
   ]
  },
  {
   "cell_type": "code",
   "execution_count": 69,
   "metadata": {},
   "outputs": [
    {
     "name": "stdout",
     "output_type": "stream",
     "text": [
      "Processed data saved to C:\\Users\\win10\\OneDrive\\Desktop\\New folder\\assignment\\processed_data.csv\n"
     ]
    }
   ],
   "source": [
    "output_path = r\"C:\\Users\\win10\\OneDrive\\Desktop\\New folder\\assignment\\processed_data.csv\"\n",
    "data.to_csv(output_path, index=False)\n",
    "\n",
    "print(f\"Processed data saved to {output_path}\")\n"
   ]
  },
  {
   "cell_type": "code",
   "execution_count": 73,
   "metadata": {},
   "outputs": [
    {
     "data": {
      "image/png": "[encoded data removed]",
      "text/plain": [
       "<Figure size 1008x504 with 1 Axes>"
      ]
     },
     "metadata": {
      "needs_background": "light"
     },
     "output_type": "display_data"
    }
   ],
   "source": [
    "import matplotlib.pyplot as plt\n",
    "\n",
    "# Filter data for a specific stock (e.g., 'MSFT')\n",
    "stock_data = data[data['Stock'] == 'MSFT']\n",
    "\n",
    "# Plot the closing price, EMA, and signals\n",
    "plt.figure(figsize=(14, 7))\n",
    "plt.plot(stock_data['Date'], stock_data['Close'], label='Close Price', alpha=0.7)\n",
    "plt.plot(stock_data['Date'], stock_data['EMA_10'], label='EMA_10', alpha=0.7)\n",
    "plt.plot(stock_data['Date'], stock_data['EMA_20'], label='EMA_20', alpha=0.7)\n",
    "\n",
    "# Plot buy and sell signals\n",
    "plt.scatter(stock_data['Date'], stock_data['Buy_Signal'], label='Buy Signal', marker='^', color='green', alpha=1)\n",
    "plt.scatter(stock_data['Date'], stock_data['Sell_Signal'], label='Sell Signal', marker='v', color='red', alpha=1)\n",
    "\n",
    "# Add labels and legend\n",
    "plt.title('Trading Signals for MSFT')\n",
    "plt.xlabel('Date')\n",
    "plt.ylabel('Price')\n",
    "plt.legend()\n",
    "plt.xticks(rotation=45)\n",
    "plt.tight_layout()\n",
    "plt.show()\n"
   ]
  },
  {
   "cell_type": "code",
   "execution_count": null,
   "metadata": {},
   "outputs": [],
   "source": []
  }
 ],
 "metadata": {
  "kernelspec": {
   "display_name": "Python 3",
   "language": "python",
   "name": "python3"
  },
  "language_info": {
   "codemirror_mode": {
    "name": "ipython",
    "version": 3
   },
   "file_extension": ".py",
   "mimetype": "text/x-python",
   "name": "python",
   "nbconvert_exporter": "python",
   "pygments_lexer": "ipython3",
   "version": "3.8.5"
  }
 },
 "nbformat": 4,
 "nbformat_minor": 4
}
